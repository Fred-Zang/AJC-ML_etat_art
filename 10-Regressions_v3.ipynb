{
  "cells": [
    {
      "cell_type": "markdown",
      "id": "edad536f-8f18-4f11-a8f2-a36ed9c9e0ee",
      "metadata": {
        "id": "edad536f-8f18-4f11-a8f2-a36ed9c9e0ee"
      },
      "source": [
        "# Analyse Exploratoire du Dataset des Maisons\n",
        "Dans ce notebook, nous allons analyser un dataset contenant des informations sur des maisons, explorer les relations entre les variables, et préparer les données pour la construction d'un modèle de régression.\n",
        "\n",
        "## 1. Chargement des Librairies et du Dataset\n",
        "Nous allons d'abord charger les librairies nécessaires et importer le dataset."
      ]
    },
    {
      "cell_type": "code",
      "execution_count": 1,
      "id": "2cb1b5d9-e292-4fc9-8d73-7e3519a438a3",
      "metadata": {
        "colab": {
          "base_uri": "https://localhost:8080/",
          "height": 356
        },
        "id": "2cb1b5d9-e292-4fc9-8d73-7e3519a438a3",
        "outputId": "9bff1cd4-73dd-42cb-c8ed-e47b5fc36788"
      },
      "outputs": [
        {
          "data": {
            "application/vnd.microsoft.datawrangler.viewer.v0+json": {
              "columns": [
                {
                  "name": "index",
                  "rawType": "int64",
                  "type": "integer"
                },
                {
                  "name": "id",
                  "rawType": "int64",
                  "type": "integer"
                },
                {
                  "name": "date",
                  "rawType": "object",
                  "type": "string"
                },
                {
                  "name": "price",
                  "rawType": "float64",
                  "type": "float"
                },
                {
                  "name": "bedrooms",
                  "rawType": "int64",
                  "type": "integer"
                },
                {
                  "name": "bathrooms",
                  "rawType": "float64",
                  "type": "float"
                },
                {
                  "name": "sqft_living",
                  "rawType": "float64",
                  "type": "float"
                },
                {
                  "name": "sqft_lot",
                  "rawType": "int64",
                  "type": "integer"
                },
                {
                  "name": "floors",
                  "rawType": "float64",
                  "type": "float"
                },
                {
                  "name": "waterfront",
                  "rawType": "int64",
                  "type": "integer"
                },
                {
                  "name": "view",
                  "rawType": "float64",
                  "type": "float"
                },
                {
                  "name": "condition",
                  "rawType": "int64",
                  "type": "integer"
                },
                {
                  "name": "grade",
                  "rawType": "int64",
                  "type": "integer"
                },
                {
                  "name": "sqft_above",
                  "rawType": "int64",
                  "type": "integer"
                },
                {
                  "name": "sqft_basement",
                  "rawType": "int64",
                  "type": "integer"
                },
                {
                  "name": "yr_built",
                  "rawType": "int64",
                  "type": "integer"
                },
                {
                  "name": "yr_renovated",
                  "rawType": "int64",
                  "type": "integer"
                },
                {
                  "name": "zipcode",
                  "rawType": "float64",
                  "type": "float"
                },
                {
                  "name": "lat",
                  "rawType": "float64",
                  "type": "float"
                },
                {
                  "name": "long",
                  "rawType": "float64",
                  "type": "float"
                },
                {
                  "name": "sqft_living15",
                  "rawType": "int64",
                  "type": "integer"
                },
                {
                  "name": "sqft_lot15",
                  "rawType": "int64",
                  "type": "integer"
                }
              ],
              "conversionMethod": "pd.DataFrame",
              "ref": "b793efab-44d6-421c-bc29-e91a4fd3cefd",
              "rows": [
                [
                  "0",
                  "7129300520",
                  "20141013T000000",
                  "221900.0",
                  "3",
                  "1.0",
                  "1180.0",
                  "5650",
                  "1.0",
                  "0",
                  "0.0",
                  "3",
                  "7",
                  "1180",
                  "0",
                  "1955",
                  "0",
                  "98178.0",
                  "47.5112",
                  "-122.257",
                  "1340",
                  "5650"
                ],
                [
                  "1",
                  "6414100192",
                  "20141209T000000",
                  "538000.0",
                  "3",
                  "2.25",
                  "2570.0",
                  "7242",
                  "2.0",
                  "0",
                  "0.0",
                  "3",
                  "7",
                  "2170",
                  "400",
                  "1951",
                  "1991",
                  "98125.0",
                  "47.721",
                  "-122.319",
                  "1690",
                  "7639"
                ],
                [
                  "2",
                  "5631500400",
                  "20150225T000000",
                  "180000.0",
                  "2",
                  "1.0",
                  "770.0",
                  "10000",
                  "1.0",
                  "0",
                  "0.0",
                  "3",
                  "6",
                  "770",
                  "0",
                  "1933",
                  "0",
                  "98028.0",
                  "47.7379",
                  "-122.233",
                  "2720",
                  "8062"
                ],
                [
                  "3",
                  "2487200875",
                  "20141209T000000",
                  "604000.0",
                  "4",
                  "3.0",
                  "1960.0",
                  "5000",
                  "1.0",
                  "0",
                  "0.0",
                  "5",
                  "7",
                  "1050",
                  "910",
                  "1965",
                  "0",
                  "98136.0",
                  "47.5208",
                  "-122.393",
                  "1360",
                  "5000"
                ],
                [
                  "4",
                  "1954400510",
                  "20150218T000000",
                  "510000.0",
                  "3",
                  "2.0",
                  "1680.0",
                  "8080",
                  "1.0",
                  "0",
                  "0.0",
                  "3",
                  "8",
                  "1680",
                  "0",
                  "1987",
                  "0",
                  "98074.0",
                  "47.6168",
                  "-122.045",
                  "1800",
                  "7503"
                ]
              ],
              "shape": {
                "columns": 21,
                "rows": 5
              }
            },
            "text/html": [
              "<div>\n",
              "<style scoped>\n",
              "    .dataframe tbody tr th:only-of-type {\n",
              "        vertical-align: middle;\n",
              "    }\n",
              "\n",
              "    .dataframe tbody tr th {\n",
              "        vertical-align: top;\n",
              "    }\n",
              "\n",
              "    .dataframe thead th {\n",
              "        text-align: right;\n",
              "    }\n",
              "</style>\n",
              "<table border=\"1\" class=\"dataframe\">\n",
              "  <thead>\n",
              "    <tr style=\"text-align: right;\">\n",
              "      <th></th>\n",
              "      <th>id</th>\n",
              "      <th>date</th>\n",
              "      <th>price</th>\n",
              "      <th>bedrooms</th>\n",
              "      <th>bathrooms</th>\n",
              "      <th>sqft_living</th>\n",
              "      <th>sqft_lot</th>\n",
              "      <th>floors</th>\n",
              "      <th>waterfront</th>\n",
              "      <th>view</th>\n",
              "      <th>...</th>\n",
              "      <th>grade</th>\n",
              "      <th>sqft_above</th>\n",
              "      <th>sqft_basement</th>\n",
              "      <th>yr_built</th>\n",
              "      <th>yr_renovated</th>\n",
              "      <th>zipcode</th>\n",
              "      <th>lat</th>\n",
              "      <th>long</th>\n",
              "      <th>sqft_living15</th>\n",
              "      <th>sqft_lot15</th>\n",
              "    </tr>\n",
              "  </thead>\n",
              "  <tbody>\n",
              "    <tr>\n",
              "      <th>0</th>\n",
              "      <td>7129300520</td>\n",
              "      <td>20141013T000000</td>\n",
              "      <td>221900.0</td>\n",
              "      <td>3</td>\n",
              "      <td>1.00</td>\n",
              "      <td>1180.0</td>\n",
              "      <td>5650</td>\n",
              "      <td>1.0</td>\n",
              "      <td>0</td>\n",
              "      <td>0.0</td>\n",
              "      <td>...</td>\n",
              "      <td>7</td>\n",
              "      <td>1180</td>\n",
              "      <td>0</td>\n",
              "      <td>1955</td>\n",
              "      <td>0</td>\n",
              "      <td>98178.0</td>\n",
              "      <td>47.5112</td>\n",
              "      <td>-122.257</td>\n",
              "      <td>1340</td>\n",
              "      <td>5650</td>\n",
              "    </tr>\n",
              "    <tr>\n",
              "      <th>1</th>\n",
              "      <td>6414100192</td>\n",
              "      <td>20141209T000000</td>\n",
              "      <td>538000.0</td>\n",
              "      <td>3</td>\n",
              "      <td>2.25</td>\n",
              "      <td>2570.0</td>\n",
              "      <td>7242</td>\n",
              "      <td>2.0</td>\n",
              "      <td>0</td>\n",
              "      <td>0.0</td>\n",
              "      <td>...</td>\n",
              "      <td>7</td>\n",
              "      <td>2170</td>\n",
              "      <td>400</td>\n",
              "      <td>1951</td>\n",
              "      <td>1991</td>\n",
              "      <td>98125.0</td>\n",
              "      <td>47.7210</td>\n",
              "      <td>-122.319</td>\n",
              "      <td>1690</td>\n",
              "      <td>7639</td>\n",
              "    </tr>\n",
              "    <tr>\n",
              "      <th>2</th>\n",
              "      <td>5631500400</td>\n",
              "      <td>20150225T000000</td>\n",
              "      <td>180000.0</td>\n",
              "      <td>2</td>\n",
              "      <td>1.00</td>\n",
              "      <td>770.0</td>\n",
              "      <td>10000</td>\n",
              "      <td>1.0</td>\n",
              "      <td>0</td>\n",
              "      <td>0.0</td>\n",
              "      <td>...</td>\n",
              "      <td>6</td>\n",
              "      <td>770</td>\n",
              "      <td>0</td>\n",
              "      <td>1933</td>\n",
              "      <td>0</td>\n",
              "      <td>98028.0</td>\n",
              "      <td>47.7379</td>\n",
              "      <td>-122.233</td>\n",
              "      <td>2720</td>\n",
              "      <td>8062</td>\n",
              "    </tr>\n",
              "    <tr>\n",
              "      <th>3</th>\n",
              "      <td>2487200875</td>\n",
              "      <td>20141209T000000</td>\n",
              "      <td>604000.0</td>\n",
              "      <td>4</td>\n",
              "      <td>3.00</td>\n",
              "      <td>1960.0</td>\n",
              "      <td>5000</td>\n",
              "      <td>1.0</td>\n",
              "      <td>0</td>\n",
              "      <td>0.0</td>\n",
              "      <td>...</td>\n",
              "      <td>7</td>\n",
              "      <td>1050</td>\n",
              "      <td>910</td>\n",
              "      <td>1965</td>\n",
              "      <td>0</td>\n",
              "      <td>98136.0</td>\n",
              "      <td>47.5208</td>\n",
              "      <td>-122.393</td>\n",
              "      <td>1360</td>\n",
              "      <td>5000</td>\n",
              "    </tr>\n",
              "    <tr>\n",
              "      <th>4</th>\n",
              "      <td>1954400510</td>\n",
              "      <td>20150218T000000</td>\n",
              "      <td>510000.0</td>\n",
              "      <td>3</td>\n",
              "      <td>2.00</td>\n",
              "      <td>1680.0</td>\n",
              "      <td>8080</td>\n",
              "      <td>1.0</td>\n",
              "      <td>0</td>\n",
              "      <td>0.0</td>\n",
              "      <td>...</td>\n",
              "      <td>8</td>\n",
              "      <td>1680</td>\n",
              "      <td>0</td>\n",
              "      <td>1987</td>\n",
              "      <td>0</td>\n",
              "      <td>98074.0</td>\n",
              "      <td>47.6168</td>\n",
              "      <td>-122.045</td>\n",
              "      <td>1800</td>\n",
              "      <td>7503</td>\n",
              "    </tr>\n",
              "  </tbody>\n",
              "</table>\n",
              "<p>5 rows × 21 columns</p>\n",
              "</div>"
            ],
            "text/plain": [
              "           id             date     price  bedrooms  bathrooms  sqft_living  \\\n",
              "0  7129300520  20141013T000000  221900.0         3       1.00       1180.0   \n",
              "1  6414100192  20141209T000000  538000.0         3       2.25       2570.0   \n",
              "2  5631500400  20150225T000000  180000.0         2       1.00        770.0   \n",
              "3  2487200875  20141209T000000  604000.0         4       3.00       1960.0   \n",
              "4  1954400510  20150218T000000  510000.0         3       2.00       1680.0   \n",
              "\n",
              "   sqft_lot  floors  waterfront  view  ...  grade  sqft_above  sqft_basement  \\\n",
              "0      5650     1.0           0   0.0  ...      7        1180              0   \n",
              "1      7242     2.0           0   0.0  ...      7        2170            400   \n",
              "2     10000     1.0           0   0.0  ...      6         770              0   \n",
              "3      5000     1.0           0   0.0  ...      7        1050            910   \n",
              "4      8080     1.0           0   0.0  ...      8        1680              0   \n",
              "\n",
              "   yr_built  yr_renovated  zipcode      lat     long  sqft_living15  \\\n",
              "0      1955             0  98178.0  47.5112 -122.257           1340   \n",
              "1      1951          1991  98125.0  47.7210 -122.319           1690   \n",
              "2      1933             0  98028.0  47.7379 -122.233           2720   \n",
              "3      1965             0  98136.0  47.5208 -122.393           1360   \n",
              "4      1987             0  98074.0  47.6168 -122.045           1800   \n",
              "\n",
              "   sqft_lot15  \n",
              "0        5650  \n",
              "1        7639  \n",
              "2        8062  \n",
              "3        5000  \n",
              "4        7503  \n",
              "\n",
              "[5 rows x 21 columns]"
            ]
          },
          "execution_count": 1,
          "metadata": {},
          "output_type": "execute_result"
        }
      ],
      "source": [
        "# lien de lancement sur Google Colab\n",
        "# https://colab.research.google.com/github/Fred-Zang/AJC-ML_etat_art/blob/main/10-Regressions_v3.ipynb\n",
        "\n",
        "\n",
        "# Importer les librairies nécessaires\n",
        "import pandas as pd\n",
        "import matplotlib.pyplot as plt\n",
        "import seaborn as sns\n",
        "\n",
        "# lancement via Google Colab pour charger le dataset\n",
        "url = \"https://raw.githubusercontent.com/Fred-Zang/AJC-ML_etat_art/main/kc_house_data_modified.csv\"\n",
        "house_data = pd.read_csv(url)\n",
        "\n",
        "# Charger le dataset en local\n",
        "#house_data = pd.read_csv('data/kc_house_data_modified.csv')\n",
        "\n",
        "# Afficher les premières lignes du dataset\n",
        "house_data.head()\n"
      ]
    },
    {
      "cell_type": "markdown",
      "id": "2a8a82ab-6682-44ac-ac4d-13e276030f13",
      "metadata": {
        "id": "2a8a82ab-6682-44ac-ac4d-13e276030f13"
      },
      "source": [
        "# 2. Exploration Initiale du Dataset\n",
        "Nous allons explorer le dataset pour comprendre sa structure, les types de variables qu'il contient, et obtenir un aperçu général des données."
      ]
    },
    {
      "cell_type": "code",
      "execution_count": null,
      "id": "8c35c066-7491-4642-b19c-f73e5fa1b56b",
      "metadata": {
        "id": "8c35c066-7491-4642-b19c-f73e5fa1b56b",
        "outputId": "8e80f1d7-2730-487c-f7ea-4dc3d15bd88f"
      },
      "outputs": [],
      "source": [
        "# Afficher des informations générales sur le dataset\n",
        "house_data.info()\n",
        "\n",
        "# Vérifier les statistiques descriptives des colonnes numériques\n",
        "house_data.describe()\n"
      ]
    },
    {
      "cell_type": "markdown",
      "id": "d850730a-4000-4d24-9baf-38db543aa9f4",
      "metadata": {
        "id": "d850730a-4000-4d24-9baf-38db543aa9f4"
      },
      "source": [
        "### Résumé des informations descriptives du dataset : (à compléter)\n",
        "- id : identifiant\n",
        "- price : Le prix des maisons\n",
        "- bedrooms : Le nombre de chambres\n",
        "- bathrooms : Le nombre de salles de bain\n",
        "- sqft_living : La surface habitable\n",
        "- floors : Le nombre d'étages\n",
        "- waterfront : Indicateur de vue sur l'eau (0 : pas de vue, 1 : vue)\n",
        "- yr_built : Les maisons datent de 1900 à 2015\n",
        "- zipcode : Code postal des maisons\n",
        "- lat et long : Coordonnées géographiques (latitude et longitude) des maisons.\n",
        "- sqft_living15 : Surface habitable moyenne des 15 maisons les plus proches.\n",
        "- sqft_lot15 : Surface moyenne du terrain des 15 maisons les plus proches."
      ]
    },
    {
      "cell_type": "markdown",
      "id": "b7c55a70-60d0-424f-8f46-a909892b4527",
      "metadata": {
        "id": "b7c55a70-60d0-424f-8f46-a909892b4527"
      },
      "source": [
        "## 3. Nettoyage, Préparation des Données et Normalisation\n",
        "nous allons débugger et nettoyer le dataset afin de le rendre propre pour l'entraînement de modèles de régression.\n",
        "\n",
        "### A. Gestion des Valeurs Manquantes\n",
        "Nous allons d'abord identifier les lignes contenant des valeurs manquantes et les traiter."
      ]
    },
    {
      "cell_type": "code",
      "execution_count": null,
      "id": "95e1245f-a034-402d-b9ba-f0750194baca",
      "metadata": {
        "id": "95e1245f-a034-402d-b9ba-f0750194baca",
        "outputId": "fe149525-f334-42e7-da2e-6e1651aff949"
      },
      "outputs": [],
      "source": [
        "# Vérifier la présence de valeurs manquantes\n",
        "missing_values = house_data.isnull().sum()\n",
        "print(missing_values)\n"
      ]
    },
    {
      "cell_type": "markdown",
      "id": "3ad1cd1e-444d-4cb2-b21e-5da31f684f92",
      "metadata": {
        "id": "3ad1cd1e-444d-4cb2-b21e-5da31f684f92"
      },
      "source": [
        "Nous avons plusieurs façons de gérer les valeurs manquantes :\n",
        "\n",
        "1. Supprimer les lignes contenant des valeurs manquantes.\n",
        "2. Remplacer les valeurs manquantes par la médiane ou la moyenne.\n"
      ]
    },
    {
      "cell_type": "code",
      "execution_count": null,
      "id": "ad236714-ab19-4de5-9985-75a22f2473b6",
      "metadata": {
        "id": "ad236714-ab19-4de5-9985-75a22f2473b6",
        "outputId": "2da1dbba-744a-4ba2-c7e9-20000a94fef5"
      },
      "outputs": [],
      "source": [
        "# exemple pour remplacer par la médiane\n",
        "#house_data['bedrooms'].fillna(house_data['bedrooms'].median(), inplace=True) # fillna() remplace les valeurs manquantes par la médiane de la colonne\n",
        "\n",
        "house_data.drop(columns=['zipcode'], inplace=True)\n",
        "\n",
        "# Supprimer les lignes où des NaN sont présents\n",
        "house_data.dropna(inplace=True)\n",
        "\n",
        "# Vérifier s'il reste des valeurs manquantes\n",
        "print(house_data.isnull().sum())\n"
      ]
    },
    {
      "cell_type": "markdown",
      "id": "78330c58-a97b-4f5d-b7b1-7b936b7a8d7c",
      "metadata": {
        "id": "78330c58-a97b-4f5d-b7b1-7b936b7a8d7c"
      },
      "source": [
        "### B. Suppression de la Colonne \"id\"\n",
        "La colonne id est une simple clé unique qui n'apporte aucune information utile pour la modélisation. Nous allons donc la supprimer."
      ]
    },
    {
      "cell_type": "code",
      "execution_count": null,
      "id": "3877a3b9-b72c-4d8e-8ed1-703597b142b9",
      "metadata": {
        "id": "3877a3b9-b72c-4d8e-8ed1-703597b142b9",
        "outputId": "59cc33bd-45fe-4570-be38-c59617fe0334"
      },
      "outputs": [],
      "source": [
        "# Suppression de la colonne 'id'\n",
        "house_data.drop(columns=['id'], inplace=True)\n",
        "\n",
        "# Vérifier que la colonne a bien été supprimée\n",
        "print(house_data.columns)\n"
      ]
    },
    {
      "cell_type": "markdown",
      "id": "7c023c81-8fb0-4274-b570-2cc9da4a8819",
      "metadata": {
        "id": "7c023c81-8fb0-4274-b570-2cc9da4a8819"
      },
      "source": [
        "### C.Reformater la Colonne \"date\" en Format DateTime\n",
        "La colonne date est actuellement une chaîne de caractères. Nous allons la reformater en format datetime pour qu'elle soit plus facilement manipulable."
      ]
    },
    {
      "cell_type": "code",
      "execution_count": null,
      "id": "3c9d9ae4-a714-4703-a81a-9fea75fb77fc",
      "metadata": {
        "id": "3c9d9ae4-a714-4703-a81a-9fea75fb77fc",
        "outputId": "3b1b00fb-4ef9-4142-8f39-e19f5240cd78"
      },
      "outputs": [],
      "source": [
        "# Reformater la colonne 'date' au format datetime\n",
        "house_data['date'] = pd.to_datetime(house_data['date'], format='%Y%m%dT%H%M%S')\n",
        "\n",
        "# Fusion des surfaces\n",
        "house_data['total_sqft'] = house_data['sqft_living'] + house_data['sqft_above'] + house_data['sqft_basement'] + house_data['sqft_lot']\n",
        "\n",
        "#Fusion des surfaces des voisins\n",
        "house_data['neighbor_avg_sqft'] = house_data['sqft_living15'] + house_data['sqft_lot15']\n",
        "\n",
        "\n",
        "# Afficher les premières lignes pour vérifier le changement\n",
        "house_data.head()\n"
      ]
    },
    {
      "cell_type": "markdown",
      "id": "61763824-a379-4551-a86c-42bd01c2a877",
      "metadata": {
        "id": "61763824-a379-4551-a86c-42bd01c2a877"
      },
      "source": [
        "### D. Détection et Gestion des Valeurs Aberrantes\n",
        "Les valeurs aberrantes sont des points de données qui s'écartent anormalement des autres observations. Nous allons détecter ces valeurs dans les colonnes price et sqft_living, où nous avons introduit des valeurs extrêmes.\n",
        "\n",
        "Étape 1 : Détection des valeurs aberrantes à l'aide d'un graphique\n",
        "Nous allons utiliser des boîtes à moustaches (boxplots) pour détecter visuellement les valeurs aberrantes dans les colonnes price et sqft_living."
      ]
    },
    {
      "cell_type": "code",
      "execution_count": null,
      "id": "9d946c85-aabb-4058-bc81-895eb7fde37f",
      "metadata": {
        "id": "9d946c85-aabb-4058-bc81-895eb7fde37f",
        "outputId": "391b519e-f81f-43d2-c3f9-386423e58eec"
      },
      "outputs": [],
      "source": [
        "import matplotlib.pyplot as plt\n",
        "import seaborn as sns\n",
        "\n",
        "# Sélectionner uniquement les colonnes numériques pour les boxplots\n",
        "numeric_columns = house_data.select_dtypes(include=['float64', 'int64']).columns\n",
        "\n",
        "# Créer une grille de sous-plots pour afficher les boxplots\n",
        "plt.figure(figsize=(20, 12))\n",
        "for i, column in enumerate(numeric_columns, 1):\n",
        "    plt.subplot(4, 5, i)  # Créer une grille 4x5 (modifiable selon le nombre de colonnes)\n",
        "    sns.boxplot(y=house_data[column])\n",
        "    plt.title(f'Boxplot de {column}')\n",
        "\n",
        "plt.tight_layout()  # Pour éviter les chevauchements\n",
        "plt.show()\n",
        "\n"
      ]
    },
    {
      "cell_type": "markdown",
      "id": "74e1967e-2165-4762-a853-aaa96b373628",
      "metadata": {
        "id": "74e1967e-2165-4762-a853-aaa96b373628"
      },
      "source": [
        "### E. Suppression des colonnes inutiles\n",
        "- waterfront : La majorité des maisons n'ont pas de vue sur l'eau (la colonne est essentiellement binaire, avec très peu de maisons ayant une vue sur l'eau).\n",
        "- view : Les boxplots montrent que cette colonne a des valeurs très concentrées.\n",
        "- zipcode : inutile et nous gardons longitude et latitude"
      ]
    },
    {
      "cell_type": "code",
      "execution_count": null,
      "id": "2330234f-5256-4bef-8e7d-a00b87edfda3",
      "metadata": {
        "id": "2330234f-5256-4bef-8e7d-a00b87edfda3",
        "outputId": "fa7e063d-10e8-4de5-9deb-285b8605c23e"
      },
      "outputs": [],
      "source": [
        "# Suppression des colonnes 'waterfront', 'view', et 'zipcode'\n",
        "house_data.drop(columns=['waterfront', 'view', 'yr_renovated', 'sqft_living', 'sqft_above', 'sqft_basement', 'sqft_living15', 'sqft_lot15', 'sqft_lot'], inplace=True)\n",
        "\n",
        "# Vérifier les colonnes restantes\n",
        "print(house_data.columns)\n",
        "\n"
      ]
    },
    {
      "cell_type": "markdown",
      "id": "7f938dca-6836-40be-bb84-6e6945541e08",
      "metadata": {
        "id": "7f938dca-6836-40be-bb84-6e6945541e08"
      },
      "source": [
        "### F. Nettoyage des Valeurs Aberrantes à l'aide de l'IQR\n",
        "Ensuite, nous allons utiliser la méthode de l'IQR pour supprimer les valeurs aberrantes dans les colonnes restantes qui sont importantes pour le modèle. Nous nous concentrerons sur les colonnes avec de nombreuses valeurs aberrantes, comme :\n",
        "\n",
        "- price\n",
        "- sqft_living\n",
        "- bathrooms\n",
        "- bedrooms\n",
        "- sqft_lot\n",
        "- sqft_above\n",
        "- sqft_basement\n"
      ]
    },
    {
      "cell_type": "code",
      "execution_count": null,
      "id": "a1855f31-93e2-446d-b653-4bb54b6d46c8",
      "metadata": {
        "id": "a1855f31-93e2-446d-b653-4bb54b6d46c8",
        "outputId": "81d06182-43ab-49eb-81de-343a43862eaa"
      },
      "outputs": [],
      "source": [
        "# Liste des colonnes à nettoyer pour les valeurs aberrantes\n",
        "columns_to_clean = ['price', 'bathrooms', 'bedrooms', 'total_sqft', 'neighbor_avg_sqft']\n",
        "\n",
        "# Appliquer la méthode de l'IQR pour chaque colonne\n",
        "for column in columns_to_clean:\n",
        "    Q1 = house_data[column].quantile(0.25)\n",
        "    Q3 = house_data[column].quantile(0.75)\n",
        "    IQR = Q3 - Q1\n",
        "    lower_bound = Q1 - 1.5 * IQR\n",
        "    upper_bound = Q3 + 1.5 * IQR\n",
        "    # Filtrer les valeurs dans les bornes acceptables\n",
        "    house_data = house_data[(house_data[column] >= lower_bound) & (house_data[column] <= upper_bound)]\n",
        "\n",
        "# Vérifier les nouvelles dimensions du dataset après le nettoyage\n",
        "print(house_data.shape)\n"
      ]
    },
    {
      "cell_type": "markdown",
      "id": "ffc2d437-1e3a-4290-9aa4-b775b43dc625",
      "metadata": {
        "id": "ffc2d437-1e3a-4290-9aa4-b775b43dc625"
      },
      "source": [
        "## G. Normalisation\n",
        "### Critères pour la normalisation :\n",
        "- Régression linéaire : Ce modèle est sensible à l'échelle des données. Il est donc souvent recommandé de normaliser ou standardiser les colonnes si elles ont des plages de valeurs très différentes.\n",
        "- Régression par forêt aléatoire : Ce modèle est moins sensible aux différences d'échelle, mais il peut tout de même être utile de normaliser certaines colonnes pour garantir une meilleure convergence et des performances plus constantes."
      ]
    },
    {
      "cell_type": "code",
      "execution_count": null,
      "id": "35aaa164-d4a6-4f13-a812-1752a6a0f251",
      "metadata": {
        "id": "35aaa164-d4a6-4f13-a812-1752a6a0f251",
        "outputId": "fe4142d7-6779-4fb7-fa38-0a3086611bd9"
      },
      "outputs": [],
      "source": [
        "# refaire un describe() final après notre nettoyage pour décider les features à normaliser ou non\n",
        "house_data.describe()"
      ]
    },
    {
      "cell_type": "markdown",
      "id": "8592abb0-86c6-476f-9c18-73e7ff88c630",
      "metadata": {
        "id": "8592abb0-86c6-476f-9c18-73e7ff88c630"
      },
      "source": [
        "### Colonnes à normaliser :\n",
        "- total_sqft\n",
        "  \n",
        "\n",
        "- neighbor_avg_sqft\n",
        "\n",
        "  \n",
        "### Colonnes probablement sans besoin de normalisation :\n",
        "- bedrooms et bathrooms : Ce sont des compteurs discrets avec une plage limitée.\n",
        "  \n",
        "- floors : Les valeurs sont assez faibles (entre 1 et 3.5).\n",
        "  \n",
        "- condition, grade : Ce sont des colonnes catégoriques ordinales, qui ne nécessitent pas de normalisation.\n",
        "  \n",
        "- yr_built : Les années peuvent être traitées telles quelles, mais la standardisation peut être envisagée si leur impact est important dans le modèle\n",
        "  \n",
        "- lat et long : Ce sont des coordonnées géographiques, nous voulons les concerver intactes"
      ]
    },
    {
      "cell_type": "markdown",
      "id": "7140b0b5-e098-48b2-badc-87a64cf88566",
      "metadata": {
        "id": "7140b0b5-e098-48b2-badc-87a64cf88566"
      },
      "source": [
        "### StandardScaler\n",
        "- Cette méthode transformera les colonnes en ayant une moyenne de 0 et un écart-type de 1"
      ]
    },
    {
      "cell_type": "code",
      "execution_count": null,
      "id": "d41f2deb-376f-4aa4-9daf-42cc5aae5f7c",
      "metadata": {
        "id": "d41f2deb-376f-4aa4-9daf-42cc5aae5f7c",
        "outputId": "4e1fb501-fda7-451c-eb9d-fe70aa1ceaa3"
      },
      "outputs": [],
      "source": [
        "from sklearn.preprocessing import StandardScaler\n",
        "\n",
        "# Liste des colonnes à normaliser\n",
        "columns_to_normalize = ['total_sqft', 'neighbor_avg_sqft']\n",
        "\n",
        "# Initialiser le StandardScaler\n",
        "scaler = StandardScaler()\n",
        "\n",
        "# Appliquer la normalisation uniquement sur les colonnes sélectionnées\n",
        "house_data[columns_to_normalize] = scaler.fit_transform(house_data[columns_to_normalize])\n",
        "\n",
        "# Vérifier les résultats\n",
        "print(house_data[columns_to_normalize].head())\n"
      ]
    },
    {
      "cell_type": "code",
      "execution_count": null,
      "id": "92d4d0ee-d33f-4635-b85c-64d64b902489",
      "metadata": {
        "id": "92d4d0ee-d33f-4635-b85c-64d64b902489",
        "outputId": "df869c61-3af5-4c3f-e53a-580f5162cb07"
      },
      "outputs": [],
      "source": [
        "house_data.head()"
      ]
    },
    {
      "cell_type": "markdown",
      "id": "a1a8097a-dd1e-41a6-8520-d06ebd035289",
      "metadata": {
        "id": "a1a8097a-dd1e-41a6-8520-d06ebd035289"
      },
      "source": [
        "# 4. Analyse des Corrélations entre les Variables\n",
        "Pour mieux comprendre la relation entre les variables, nous allons analyser la matrice de corrélation et voir quelles variables sont les plus corrélées avec le prix des maisons."
      ]
    },
    {
      "cell_type": "code",
      "execution_count": null,
      "id": "8932cf05-adf8-4e41-80f8-fce2f392949c",
      "metadata": {
        "id": "8932cf05-adf8-4e41-80f8-fce2f392949c"
      },
      "outputs": [],
      "source": [
        "df = house_data.drop(['lat', 'long'], axis=1)"
      ]
    },
    {
      "cell_type": "code",
      "execution_count": null,
      "id": "a101e05a-b799-4f5e-91c1-f3cc7321f03d",
      "metadata": {
        "id": "a101e05a-b799-4f5e-91c1-f3cc7321f03d",
        "outputId": "375e9629-5a05-4a55-e885-f92b99c5f4a4"
      },
      "outputs": [],
      "source": [
        "# Calculer la matrice de corrélation\n",
        "correlation_matrix = df.corr()\n",
        "\n",
        "# Afficher la corrélation des variables avec le prix\n",
        "print(correlation_matrix['price'].sort_values(ascending=False))\n",
        "\n",
        "# Visualisation de la matrice de corrélation\n",
        "plt.figure(figsize=(10, 8))\n",
        "sns.heatmap(correlation_matrix, annot=True, fmt=\".2f\", cmap='coolwarm')\n",
        "plt.title('Matrice de Corrélation')\n",
        "plt.show()\n"
      ]
    },
    {
      "cell_type": "markdown",
      "id": "0729e2df-ca92-44df-8ff8-55af029dbf0b",
      "metadata": {
        "id": "0729e2df-ca92-44df-8ff8-55af029dbf0b"
      },
      "source": [
        "## 6. modèle de régression Gradient Boosting\n",
        "![image.png](attachment:580f0a4b-022d-4970-b155-d3f042daa681.png)\n",
        "- Un modèle de Gradient Boosting avec 100 arbres de décision (n_estimators=100) et une profondeur maximale de 3 (max_depth=3) a été utilisé. Ces paramètres peuvent être ajustés pour améliorer les performances.\n",
        "- A. Diviser les données en ensembles d'entraînement et de test."
      ]
    },
    {
      "cell_type": "code",
      "execution_count": null,
      "id": "3fcaf642-a99b-4416-8adf-cd7afd9fcf20",
      "metadata": {
        "id": "3fcaf642-a99b-4416-8adf-cd7afd9fcf20"
      },
      "outputs": [],
      "source": [
        "# Importer les bibliothèques nécessaires\n",
        "import pandas as pd\n",
        "from sklearn.model_selection import train_test_split\n",
        "from sklearn.preprocessing import StandardScaler\n",
        "from sklearn.ensemble import GradientBoostingRegressor\n",
        "from sklearn.metrics import mean_squared_error, r2_score\n",
        "import numpy as np\n",
        "import matplotlib.pyplot as plt\n",
        "\n"
      ]
    },
    {
      "cell_type": "code",
      "execution_count": null,
      "id": "56384997-8f6e-4221-94b0-28193d6800c1",
      "metadata": {
        "id": "56384997-8f6e-4221-94b0-28193d6800c1",
        "outputId": "adc0ed1f-e758-4877-ee4a-72d89f449047"
      },
      "outputs": [],
      "source": [
        "house_data.describe()\n"
      ]
    },
    {
      "cell_type": "code",
      "execution_count": null,
      "id": "5c2e4e45-9d2b-43c6-b9a9-bed763daab0a",
      "metadata": {
        "id": "5c2e4e45-9d2b-43c6-b9a9-bed763daab0a"
      },
      "outputs": [],
      "source": [
        "house_data_selected = house_data.drop(columns=['date','lat', 'long'])"
      ]
    },
    {
      "cell_type": "code",
      "execution_count": null,
      "id": "959cec18-8a75-41ec-ac4d-684b238229f0",
      "metadata": {
        "id": "959cec18-8a75-41ec-ac4d-684b238229f0",
        "outputId": "a837f2d6-b2a2-4b8b-be74-928cfc45f343"
      },
      "outputs": [],
      "source": [
        "# Séparer les features (X) et la cible (y)\n",
        "X = house_data_selected.drop(columns=['price'])\n",
        "y = house_data_selected['price']\n",
        "\n",
        "# Diviser les données en ensembles d'entraînement et de test\n",
        "X_train, X_test, y_train, y_test = train_test_split(X, y, test_size=0.2, random_state=42)\n",
        "\n",
        "# Créer et entraîner le modèle de Gradient Boosting\n",
        "gb_model = GradientBoostingRegressor(n_estimators=100, learning_rate=0.1, max_depth=3, random_state=42)\n",
        "gb_model.fit(X_train, y_train)\n",
        "\n",
        "# Évaluer la performance du modèle\n",
        "y_pred_gb = gb_model.predict(X_test)\n",
        "\n",
        "# Calculer le coefficient de détermination R² et le RMSE\n",
        "r2_gb = r2_score(y_test, y_pred_gb)\n",
        "rmse_gb = np.sqrt(mean_squared_error(y_test, y_pred_gb))\n",
        "\n",
        "# Afficher les résultats\n",
        "print(f\"Coefficient de détermination R² (Gradient Boosting) : {r2_gb:.4f}\")\n",
        "print(f\"Root Mean Squared Error (RMSE - Gradient Boosting) : {rmse_gb:.2f} USD\")\n",
        "\n",
        "\n",
        "\n",
        "\n"
      ]
    },
    {
      "cell_type": "code",
      "execution_count": null,
      "id": "f28c35a2-93cc-4160-bc09-9c15822b34ac",
      "metadata": {
        "id": "f28c35a2-93cc-4160-bc09-9c15822b34ac",
        "outputId": "4615d640-fc0e-4ab5-fbd3-5f82dac29ecc"
      },
      "outputs": [],
      "source": [
        "\n",
        "# Faire des prédictions sur de nouveaux exemples\n",
        "new_samples = pd.DataFrame({\n",
        "    'bedrooms' : [5,6,8],\n",
        "    'bathrooms': [2, 3, 4],\n",
        "    'floors' : [1, 2, 2],\n",
        "    'condition' : [2, 3, 4],\n",
        "    'grade': [7, 9, 10],\n",
        "    'yr_built': [1990, 2005, 2015],\n",
        "    'total_sqft': [11800, 12500, 13500],\n",
        "    'neighbor_avg_sqft': [5000, 8000, 12000]\n",
        "\n",
        "})\n",
        "\n",
        "# Normaliser les nouvelles données\n",
        "new_samples[columns_to_normalize[:6]] = scaler.transform(new_samples[columns_to_normalize[:6]])\n",
        "\n",
        "# Faire la prédiction avec le modèle Gradient Boosting\n",
        "new_predictions = gb_model.predict(new_samples)\n",
        "\n",
        "# Afficher les résultats\n",
        "for i, pred in enumerate(new_predictions):\n",
        "    print(f\"Exemple {i+1} :\")\n",
        "    print(new_samples.iloc[i])\n",
        "    print(f\"Prix prédit : {pred:.2f} USD\\n\")"
      ]
    },
    {
      "cell_type": "markdown",
      "id": "d4292a16-585e-466f-9589-cccd689c1168",
      "metadata": {
        "id": "d4292a16-585e-466f-9589-cccd689c1168"
      },
      "source": [
        "## Interprétation des résultats :\n",
        "1. Coefficient de détermination R² : 0.5734 :\n",
        "- Le R² = 0.5734 signifie que le modèle de Gradient Boosting explique environ 57,34 % de la variance dans les prix des maisons.\n",
        "- C'est une amélioration significative par rapport au R² précédent de 0.1768, ce qui indique que les regroupements de features et la réduction de la colinéarité ont aidé le modèle à mieux capturer les relations dans les données.\n",
        "- Bien que 57,34 % ne soit pas parfait, c'est un bon résultat, surtout pour un problème complexe comme la prédiction des prix des maisons, où de nombreuses variables externes (comme l'emplacement exact, la qualité des matériaux, ou les tendances du marché) ne sont pas forcément incluses dans les données.\n",
        "  \n",
        "2. Root Mean Squared Error (RMSE) : 133 346.41 USD :\n",
        "- Le RMSE représente l'erreur quadratique moyenne entre les prix réels et les prix prédits, mesurée dans les mêmes unités que la variable cible (USD).\n",
        "- Un RMSE de 133 346.41 USD signifie que le modèle fait en moyenne une erreur de 133 346 USD lors de la prédiction des prix des maisons. C'est une amélioration substantielle par rapport à l'erreur précédente (556 744.61 USD).\n",
        "- Si l'on compare cette valeur à la distribution des prix des maisons (qui varient probablement entre quelques centaines de milliers et plusieurs millions), cet RMSE est raisonnable pour ce type de modèle.\n",
        "  \n",
        "3. Interprétation globale :\n",
        "- Amélioration : Les regroupements des features liés aux surfaces ont permis de réduire la colinéarité et de simplifier la structure des données, ce qui a conduit à une meilleure performance du modèle.\n",
        "- R² : Avec un R² de 0.5734, le modèle capture une part importante de la variance des prix, mais il reste des aspects du problème que le modèle n'explique pas encore bien. Cela peut être dû à des facteurs externes (comme des informations manquantes sur la qualité de la maison, des données environnementales, etc.).\n",
        "- RMSE : L'erreur moyenne reste importante, mais elle est significativement plus faible, ce qui montre que les ajustements ont permis de réduire l'erreur de prédiction.\n",
        "  \n",
        "4. Suggestions pour continuer l'amélioration :\n",
        "- Affiner les hyperparamètres : Maintenant que le modèle fonctionne mieux, tu pourrais encore affiner les hyperparamètres du modèle de Gradient Boosting (par exemple, augmenter le nombre d'estimations n_estimators, ajuster la profondeur des arbres max_depth, ou réduire légèrement le taux d'apprentissage learning_rate).\n",
        "- Ajouter de nouvelles features : Si des données supplémentaires sont disponibles, comme des informations plus précises sur l'emplacement ou les matériaux utilisés dans la construction des maisons, cela pourrait aider à améliorer encore le modèle."
      ]
    },
    {
      "cell_type": "code",
      "execution_count": null,
      "id": "45534d6b-f85e-465b-ae04-08c244795180",
      "metadata": {
        "id": "45534d6b-f85e-465b-ae04-08c244795180"
      },
      "outputs": [],
      "source": [
        "import folium"
      ]
    },
    {
      "cell_type": "markdown",
      "id": "cdda3faf-f4f5-4f02-8d1a-e0dc9eeb370e",
      "metadata": {
        "id": "cdda3faf-f4f5-4f02-8d1a-e0dc9eeb370e"
      },
      "source": [
        "# 7. Créer une carte intéractive de localisation\n",
        "\n",
        "**conda install folium** ou bien **pip install folium**\n",
        "\n",
        "Nous allons créer une carte centrée sur la moyenne des coordonnées latitude et longitude, puis y placer des points représentant chaque maison.\n",
        "\n",
        "- folium.Map() : Crée une carte centrée sur la moyenne des coordonnées lat et long avec un niveau de zoom initial (ici zoom_start=10).\n",
        "- MarkerCluster() : Ce plugin permet de regrouper les marqueurs lorsqu'ils se trouvent trop près les uns des autres. Cela améliore la lisibilité de la carte.\n",
        "- folium.Marker() : Crée des marqueurs pour chaque maison, en utilisant les coordonnées latitude et longitude. Le popup affiche des informations comme le prix et la surface de la maison.\n",
        "- Utilisation de FastMarkerCluster : Folium propose déjà une solution pour gérer un grand nombre de points de manière plus efficace. Le FastMarkerCluster est une alternative au MarkerCluster standard et peut accélérer considérablement la création des marqueurs, car il utilise des techniques de regroupement plus rapides."
      ]
    },
    {
      "cell_type": "code",
      "execution_count": null,
      "id": "c084fda1-2b88-4a5b-80f6-cb9cb9430c3b",
      "metadata": {
        "id": "c084fda1-2b88-4a5b-80f6-cb9cb9430c3b",
        "outputId": "41793ffe-0001-49c2-dc3b-12f7e7cfdfa6"
      },
      "outputs": [],
      "source": [
        "import folium\n",
        "from folium.plugins import FastMarkerCluster\n",
        "\n",
        "# Calculer la position centrale de la carte (moyenne des latitudes et longitudes)\n",
        "map_center = [house_data['lat'].mean(), house_data['long'].mean()]\n",
        "\n",
        "# Créer la carte centrée sur la région des maisons\n",
        "house_map = folium.Map(location=map_center, zoom_start=10)\n",
        "\n",
        "# Créer une liste de tuples (latitude, longitude) pour FastMarkerCluster\n",
        "locations = list(zip(house_data['lat'], house_data['long']))\n",
        "\n",
        "# Utiliser FastMarkerCluster pour ajouter les points\n",
        "FastMarkerCluster(locations).add_to(house_map)\n",
        "\n",
        "# Sauvegarder la carte ou l'afficher\n",
        "house_map.save('data/house_map_fast.html')\n",
        "house_map\n"
      ]
    },
    {
      "cell_type": "markdown",
      "id": "c87c8377-279c-4e54-97d6-2c7076c6d61c",
      "metadata": {
        "id": "c87c8377-279c-4e54-97d6-2c7076c6d61c"
      },
      "source": [
        "## A. Colorer les Points en Fonction du Prix des Maisons\n",
        "Nous pouvons également ajouter une fonctionnalité qui colorie les points en fonction du prix des maisons pour une meilleure visualisation de la répartition des prix dans la région.\n",
        "- price_color() : Cette fonction attribue une couleur différente à chaque point en fonction du prix des maisons (vert pour les prix bas, orange pour les prix moyens, rouge pour les prix élevés).\n",
        "- folium.CircleMarker() : Utilisé à la place de Marker pour créer des marqueurs de forme circulaire avec des couleurs personnalisées."
      ]
    },
    {
      "cell_type": "code",
      "execution_count": null,
      "id": "6db61f77-d9ad-467d-8560-c321379de817",
      "metadata": {
        "id": "6db61f77-d9ad-467d-8560-c321379de817",
        "outputId": "75705e33-ac3e-4800-f77e-7312795f1b3e"
      },
      "outputs": [],
      "source": [
        "import folium\n",
        "\n",
        "# Calculer la position centrale de la carte (moyenne des latitudes et longitudes)\n",
        "map_center = [house_data['lat'].mean(), house_data['long'].mean()]\n",
        "\n",
        "# Créer la carte centrée sur la région des maisons\n",
        "house_map = folium.Map(location=map_center, zoom_start=10)\n",
        "\n",
        "# Créer une fonction pour attribuer des couleurs en fonction du prix\n",
        "def price_color(price):\n",
        "    if price < 300000:\n",
        "        return 'green'\n",
        "    elif 300000 <= price < 600000:\n",
        "        return 'orange'\n",
        "    else:\n",
        "        return 'red'\n",
        "\n",
        "# Limiter à un sous-ensemble de points pour accélérer la carte (par exemple, afficher seulement 1000 points)\n",
        "sampled_data = house_data #.sample(1000)  # Vous pouvez ajuster ce nombre\n",
        "\n",
        "# penser à rajouter\n",
        "# Utiliser FastMarkerCluster pour ajouter les points\n",
        "# FastMarkerCluster(locations).add_to(house_map)\n",
        "\n",
        "# Ajouter des marqueurs colorés en fonction du prix\n",
        "for idx, row in sampled_data.iterrows():  # ou sur house_data\n",
        "    folium.CircleMarker(\n",
        "        location=[row['lat'], row['long']],\n",
        "        radius=5,\n",
        "        color=price_color(row['price']),\n",
        "        fill=True,\n",
        "        fill_opacity=0.7,\n",
        "        popup=f\"Prix: {row['price']} USD\\nSurface: {row['total_sqft']} sqft\"\n",
        "    ).add_to(house_map)\n",
        "\n",
        "# Sauvegarder la carte et l'afficher\n",
        "house_map.save('data/house_map_colored.html')\n",
        "house_map\n"
      ]
    }
  ],
  "metadata": {
    "colab": {
      "provenance": []
    },
    "kernelspec": {
      "display_name": "mon_env",
      "language": "python",
      "name": "python3"
    },
    "language_info": {
      "codemirror_mode": {
        "name": "ipython",
        "version": 3
      },
      "file_extension": ".py",
      "mimetype": "text/x-python",
      "name": "python",
      "nbconvert_exporter": "python",
      "pygments_lexer": "ipython3",
      "version": "3.9.13"
    }
  },
  "nbformat": 4,
  "nbformat_minor": 5
}
